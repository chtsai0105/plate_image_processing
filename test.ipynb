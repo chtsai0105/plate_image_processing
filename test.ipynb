{
 "cells": [
  {
   "cell_type": "code",
   "execution_count": null,
   "metadata": {},
   "outputs": [],
   "source": [
    "import matplotlib.pyplot as plt\n",
    "from types import SimpleNamespace\n",
    "\n",
    "from autocrop.autocrop import *"
   ]
  },
  {
   "cell_type": "code",
   "execution_count": null,
   "metadata": {},
   "outputs": [],
   "source": [
    "plt.rcParams[\"xtick.bottom\"] = plt.rcParams['xtick.labelbottom'] = False\n",
    "plt.rcParams[\"ytick.left\"] = plt.rcParams['ytick.labelleft'] = False"
   ]
  },
  {
   "cell_type": "code",
   "execution_count": null,
   "metadata": {},
   "outputs": [],
   "source": [
    "def find_plates(rgb_img, sorted_contours, n=3, area_ratio_h=0.30, area_ratio_l=0.15, **kwargs):\n",
    "    \"\"\"\n",
    "    Find the largest n contours that have correct size. Failed to find any will terminate the program.\n",
    "\n",
    "    Args:\n",
    "        rgb_img (np.ndarray)    : A numpy array of the image.\n",
    "        sorted_contours (list)  : A 3D numpy array of the selected background pixels or a region on a rgb image.\n",
    "        n (int)                 : The number of plate expected to be found.\n",
    "        area_ratio_h (float)    : The higest ratio of an area considered to be a plate.\n",
    "        area_ratio_l (float)    : The lowest ratio of an area considered to be a plate.\n",
    "        (output_dir) (str)      : (Optional) The directory of the output path.\n",
    "        (file) (pathlib.Path)   : (Optional) The file basename of the output.\n",
    "\n",
    "    Returns:\n",
    "        None\n",
    "    \"\"\"\n",
    "    plate_number = 1\n",
    "    logging.debug(f\"Finding for plate that the ratio falls between {area_ratio_l}-{area_ratio_h} ...\")\n",
    "    for i in range(min(len(sorted_contours), n)):\n",
    "        contour = sorted_contours[i]\n",
    "        x, y, w, h = cv.boundingRect(contour)\n",
    "        area_ratio = (w * h) / (rgb_img.shape[0] * rgb_img.shape[1])\n",
    "        logging.debug(f\"Found plate with ratio {area_ratio}\")\n",
    "        if area_ratio >= area_ratio_l and area_ratio <= area_ratio_h:\n",
    "            crop = rgb_img[y : y + h, x : x + w]\n",
    "            if all(i in kwargs for i in (\"output_dir\", \"file\")):\n",
    "                output_dir = kwargs.get(\"output_dir\")\n",
    "                file = kwargs.get(\"file\")\n",
    "                output = f\"{output_dir}/{file.stem}_{plate_number}{file.suffix}\"\n",
    "                cv.imwrite(output, crop)\n",
    "                logging.info(f\"Write plate{plate_number} image to {output}\")\n",
    "            else:\n",
    "                fig, ax = plt.subplots(figsize=(8, 8))\n",
    "                plt.imshow(crop)\n",
    "            plate_number += 1\n",
    "\n",
    "    if plate_number == 1:\n",
    "        logging.warning(f\"Cannot found any contour which area falls between {area_ratio_l}-{area_ratio_h}.\")\n",
    "        sys.exit(2)"
   ]
  },
  {
   "cell_type": "code",
   "execution_count": null,
   "metadata": {},
   "outputs": [],
   "source": [
    "logging.basicConfig(format=\"%(asctime)s autocrop %(levelname)s [%(filename)s] %(message)s\", level=\"DEBUG\")\n",
    "logger = logging.getLogger()"
   ]
  },
  {
   "cell_type": "code",
   "execution_count": null,
   "metadata": {},
   "outputs": [],
   "source": [
    "parent_dir = \"original_images\"\n",
    "\n",
    "file = Path(f\"{parent_dir}/3_1_30.jpg\")             # Obvious colony\n",
    "# file = Path(f\"{parent_dir}/17_3_4.jpg\")             # Obvious but some of the colony are not round\n",
    "# file = Path(f\"{parent_dir}/7_2_low_N.jpg\")          # Obvious colony with cut agar\n",
    "# file = Path(f\"{parent_dir}/10_1_30C.jpg\")           # Overgrowth\n",
    "# file = Path(f\"{parent_dir}/7_1_4C.jpg\")             # Weak colony"
   ]
  },
  {
   "cell_type": "code",
   "execution_count": null,
   "metadata": {},
   "outputs": [],
   "source": [
    "f = ContextFilter()\n",
    "f.add_filename(file.name)\n",
    "logger.addFilter(f)"
   ]
  },
  {
   "cell_type": "markdown",
   "metadata": {},
   "source": [
    "## Find and clip the edge of the container"
   ]
  },
  {
   "cell_type": "code",
   "execution_count": null,
   "metadata": {},
   "outputs": [],
   "source": [
    "# Load image and convert it to grayscale.\n",
    "imageRGB = cv.imread(str(file), cv.COLOR_BGR2RGB)\n",
    "\n",
    "# Scale the images to a specific resolution and fix the distortion.\n",
    "imageRGB = scale_image(imageRGB, adj_width=4000, distortion_offset=0.95)\n",
    "\n",
    "gray = cv.cvtColor(imageRGB, cv.COLOR_RGB2GRAY)\n",
    "hsv = cv.cvtColor(imageRGB, cv.COLOR_RGB2HSV)"
   ]
  },
  {
   "cell_type": "code",
   "execution_count": null,
   "metadata": {},
   "outputs": [],
   "source": [
    "# Downscales the grayscale image if it is too large to speed up largest inner rectangle detection.\n",
    "if gray.shape[1] > 1000:\n",
    "    gray, scaling_factor = scale_image(gray, adj_width=1000, get_scal_f=True)\n",
    "    hsv = cv.resize(hsv, (gray.shape[1], gray.shape[0]), interpolation=cv.INTER_AREA)"
   ]
  },
  {
   "cell_type": "code",
   "execution_count": null,
   "metadata": {},
   "outputs": [],
   "source": [
    "# Fill the container to improve the largest inner rectangle detection.\n",
    "filled_gray = fill_container(gray)"
   ]
  },
  {
   "cell_type": "code",
   "execution_count": null,
   "metadata": {},
   "outputs": [],
   "source": [
    "fig, ax = plt.subplots(figsize=(8, 8))\n",
    "plt.imshow(hsv)"
   ]
  },
  {
   "cell_type": "code",
   "execution_count": null,
   "metadata": {},
   "outputs": [],
   "source": [
    "# Find the largest inner rectangle, which is the square dish.\n",
    "try:\n",
    "    logging.debug(\"Detecting container...\")\n",
    "    x, y, w, h = detect_largest_inner_rectangle(filled_gray)\n",
    "    logging.debug(\"Got image that contains container only.\")\n",
    "except:\n",
    "    logging.error(\"Timeout. Cannot found largest interior rectangle.\")\n",
    "    sys.exit(1)"
   ]
  },
  {
   "cell_type": "code",
   "execution_count": null,
   "metadata": {},
   "outputs": [],
   "source": [
    "# Get lower region that contains markers. The values were obtained empirically.\n",
    "lower_bound = np.array([0, 74, 190])\n",
    "upper_bound = np.array([150, 210, 255])\n",
    "\n",
    "# Detect markers. Only search on part of the image below the container.\n",
    "hsv = hsv[y + h :, x : x + w]\n",
    "mx, my, mw, mh = get_markers(hsv, lower_bound, upper_bound)"
   ]
  },
  {
   "cell_type": "code",
   "execution_count": null,
   "metadata": {},
   "outputs": [],
   "source": [
    "if \"scaling_factor\" in locals():\n",
    "    logging.debug(\"Upscale the coordinates and dimensions back to apply on the original image.\")\n",
    "    x, y, w, h = [int(i / scaling_factor) for i in [x, y, w, h]]\n",
    "    mx, my, mw, mh = [int(i / scaling_factor) for i in [mx, my, mw, mh]]\n",
    "    del scaling_factor"
   ]
  },
  {
   "cell_type": "code",
   "execution_count": null,
   "metadata": {},
   "outputs": [],
   "source": [
    "# Get the dish container and markers.\n",
    "image_container = imageRGB[y : y + h, x : x + w]\n",
    "markers_region = imageRGB[y + h :, x : x + w]\n",
    "marker = markers_region[my : my + mh, mx : mx + mw]"
   ]
  },
  {
   "cell_type": "code",
   "execution_count": null,
   "metadata": {},
   "outputs": [],
   "source": [
    "# Shrink the image by 4% to remove the container's edges.\n",
    "image_container = shrink_image(image_container, perc=4)"
   ]
  },
  {
   "cell_type": "code",
   "execution_count": null,
   "metadata": {},
   "outputs": [],
   "source": [
    "fig, ax = plt.subplots(figsize=(8, 8))\n",
    "plt.imshow(image_container)"
   ]
  },
  {
   "cell_type": "code",
   "execution_count": null,
   "metadata": {},
   "outputs": [],
   "source": [
    "fig, ax = plt.subplots(figsize=(8, 8))\n",
    "plt.imshow(marker)"
   ]
  },
  {
   "cell_type": "markdown",
   "metadata": {},
   "source": [
    "## Find the 96-well plate"
   ]
  },
  {
   "cell_type": "code",
   "execution_count": null,
   "metadata": {},
   "outputs": [],
   "source": [
    "# Increase contrast.\n",
    "blur = cv.GaussianBlur(image_container, (5, 5), 0)\n",
    "enhanced_img = increase_contrast(blur)\n",
    "gray = cv.cvtColor(enhanced_img, cv.COLOR_RGB2GRAY)"
   ]
  },
  {
   "cell_type": "code",
   "execution_count": null,
   "metadata": {},
   "outputs": [],
   "source": [
    "fig, ax = plt.subplots(figsize=(8, 8))\n",
    "plt.imshow(gray)"
   ]
  },
  {
   "cell_type": "code",
   "execution_count": null,
   "metadata": {},
   "outputs": [],
   "source": [
    "# Color balance by the background and output to file.\n",
    "_, th = cv.threshold(gray, 100, 255, cv.THRESH_BINARY)\n",
    "signal_ratio = (th > 0).sum() / th.size\n",
    "\n",
    "background_reference = get_background(th, image_container)\n",
    "imageRGB = color_balance_RGBscaling(imageRGB, background_reference)"
   ]
  },
  {
   "cell_type": "code",
   "execution_count": null,
   "metadata": {},
   "outputs": [],
   "source": [
    "signal_ratio"
   ]
  },
  {
   "cell_type": "code",
   "execution_count": null,
   "metadata": {},
   "outputs": [],
   "source": [
    "param_dict = {\"H\": {\"signal_ratio_target\": 0.20, \"signal_ratio_diff\": 0.05},\n",
    "              \"M\": {\"signal_ratio_target\": 0.11, \"signal_ratio_diff\": 0.04},\n",
    "              \"L\": {\"signal_ratio_target\": 0.04, \"signal_ratio_diff\": 0.03}}"
   ]
  },
  {
   "cell_type": "code",
   "execution_count": null,
   "metadata": {},
   "outputs": [],
   "source": [
    "args = SimpleNamespace()\n",
    "args.param = None"
   ]
  },
  {
   "cell_type": "code",
   "execution_count": null,
   "metadata": {},
   "outputs": [],
   "source": [
    "if args.param:\n",
    "    select = args.param\n",
    "else:\n",
    "    if signal_ratio < param_dict[\"M\"][\"signal_ratio_target\"] - param_dict[\"M\"][\"signal_ratio_diff\"]:\n",
    "        select = \"L\"\n",
    "    elif signal_ratio > param_dict[\"M\"][\"signal_ratio_target\"] + param_dict[\"M\"][\"signal_ratio_diff\"]:\n",
    "        select = \"H\"\n",
    "    else:\n",
    "        select = \"M\"\n",
    "\n",
    "logging.info(f'Use \"{select}\" parameter set')"
   ]
  },
  {
   "cell_type": "code",
   "execution_count": null,
   "metadata": {},
   "outputs": [],
   "source": [
    "# Find the proper threshold.\n",
    "th = find_proper_threshold(gray, **param_dict[select])"
   ]
  },
  {
   "cell_type": "code",
   "execution_count": null,
   "metadata": {},
   "outputs": [],
   "source": [
    "fig, ax = plt.subplots(figsize=(8, 8))\n",
    "plt.imshow(th)"
   ]
  },
  {
   "cell_type": "code",
   "execution_count": null,
   "metadata": {},
   "outputs": [],
   "source": [
    "# Use opening to denoise.\n",
    "kernel = np.ones((5, 5), np.uint8)\n",
    "opening = cv.morphologyEx(th, cv.MORPH_OPEN, kernel, iterations=5)"
   ]
  },
  {
   "cell_type": "code",
   "execution_count": null,
   "metadata": {},
   "outputs": [],
   "source": [
    "fig, ax = plt.subplots(figsize=(8, 8))\n",
    "plt.imshow(opening)"
   ]
  },
  {
   "cell_type": "code",
   "execution_count": null,
   "metadata": {},
   "outputs": [],
   "source": [
    "# Find the proper iterations.\n",
    "sorted_contours, image = find_proper_iterations_for_dilations(opening, iterations=5, get_img=True)"
   ]
  },
  {
   "cell_type": "code",
   "execution_count": null,
   "metadata": {},
   "outputs": [],
   "source": [
    "fig, ax = plt.subplots(figsize=(8, 8))\n",
    "plt.imshow(image)"
   ]
  },
  {
   "cell_type": "markdown",
   "metadata": {},
   "source": [
    "## Find and crop the rectangular contours"
   ]
  },
  {
   "cell_type": "code",
   "execution_count": null,
   "metadata": {},
   "outputs": [],
   "source": [
    "args.n_plates = 3"
   ]
  },
  {
   "cell_type": "code",
   "execution_count": null,
   "metadata": {},
   "outputs": [],
   "source": [
    "# Find, crop and output the first n largest contours.\n",
    "image_container = color_balance_RGBscaling(image_container, background_reference)\n",
    "find_plates(image_container, sorted_contours, n=args.n_plates)"
   ]
  }
 ],
 "metadata": {
  "kernelspec": {
   "display_name": "opencv",
   "language": "python",
   "name": "python3"
  },
  "language_info": {
   "codemirror_mode": {
    "name": "ipython",
    "version": 3
   },
   "file_extension": ".py",
   "mimetype": "text/x-python",
   "name": "python",
   "nbconvert_exporter": "python",
   "pygments_lexer": "ipython3",
   "version": "3.11.5"
  },
  "orig_nbformat": 4
 },
 "nbformat": 4,
 "nbformat_minor": 2
}
